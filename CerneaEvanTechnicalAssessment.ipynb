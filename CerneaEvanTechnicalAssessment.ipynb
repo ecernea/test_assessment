{
 "cells": [
  {
   "cell_type": "markdown",
   "metadata": {},
   "source": [
    "# Technial Assessment \n",
    "### Evan Cernea\n",
    "### January 27th, 2019\n"
   ]
  },
  {
   "cell_type": "code",
   "execution_count": 65,
   "metadata": {},
   "outputs": [],
   "source": [
    "library(ggplot2)\n",
    "library(dplyr)\n",
    "library(caret)\n",
    "library(MASS)\n",
    "options(scipen=999)"
   ]
  },
  {
   "cell_type": "code",
   "execution_count": 4,
   "metadata": {},
   "outputs": [],
   "source": [
    "plotTheme <- function(base_size = 12) {\n",
    "  theme(\n",
    "    text = element_text( color = \"black\"),\n",
    "    plot.title = element_text(size = 18,colour = \"black\"),\n",
    "    plot.subtitle = element_text(face=\"italic\"),\n",
    "    plot.caption = element_text(hjust=0),\n",
    "    axis.ticks = element_blank(),\n",
    "    panel.background = element_blank(),\n",
    "    panel.grid.major.y = element_line(\"grey80\", size = 0.1),\n",
    "    panel.grid.minor = element_blank(),\n",
    "    strip.background = element_rect(fill = \"grey80\", color = \"white\"),\n",
    "    strip.text = element_text(size=12),\n",
    "    axis.title = element_text(size=8),\n",
    "    axis.text = element_text(size=8),\n",
    "    axis.title.y = element_text(size=12),\n",
    "    plot.background = element_blank(),\n",
    "    legend.background = element_blank(),\n",
    "    legend.title = element_text(colour = \"black\", face = \"italic\"),\n",
    "    legend.text = element_text(colour = \"black\", face = \"italic\"),\n",
    "    axis.ticks.y = element_line(color=\"grey70\"),\n",
    "    axis.text.x =  element_blank(),\n",
    "    axis.title.x = element_blank(),\n",
    "    axis.ticks.x = element_blank())\n",
    "}\n"
   ]
  },
  {
   "cell_type": "markdown",
   "metadata": {},
   "source": [
    "## Part One: Data Cleaning and Variable Exploration\n",
    "\n",
    "### Selecting Variables\n",
    "\n",
    "I first loaded the data and selected only the columns designated in the assessment. When loading the data, I made sure to transform any blank cells into NAs."
   ]
  },
  {
   "cell_type": "code",
   "execution_count": 5,
   "metadata": {},
   "outputs": [],
   "source": [
    "test_data <- read.csv(\"C:/Users/Evan Cernea/Downloads/loan.csv/loan.csv\", header=T, na.strings=c(\"\",\"NA\"))\n",
    "test_selected <- test_data %>% dplyr::select('loan_amnt', 'funded_amnt', \n",
    "                                             'term', 'int_rate', 'grade', 'annual_inc', 'issue_d', 'dti', \n",
    "                                             'revol_bal', 'total_pymnt', 'loan_status')"
   ]
  },
  {
   "cell_type": "markdown",
   "metadata": {},
   "source": [
    "### Null and Zero Variables\n",
    "\n",
    "After selecting the designated columns, I examined which of those columns had either NA or 0 values. I first examined NA values."
   ]
  },
  {
   "cell_type": "code",
   "execution_count": 6,
   "metadata": {},
   "outputs": [
    {
     "data": {
      "text/html": [
       "<table>\n",
       "<thead><tr><th scope=col>loan_amnt</th><th scope=col>funded_amnt</th><th scope=col>term</th><th scope=col>int_rate</th><th scope=col>grade</th><th scope=col>annual_inc</th><th scope=col>issue_d</th><th scope=col>dti</th><th scope=col>revol_bal</th><th scope=col>total_pymnt</th><th scope=col>loan_status</th></tr></thead>\n",
       "<tbody>\n",
       "\t<tr><td>0</td><td>0</td><td>0</td><td>0</td><td>0</td><td>4</td><td>0</td><td>0</td><td>0</td><td>0</td><td>0</td></tr>\n",
       "</tbody>\n",
       "</table>\n"
      ],
      "text/latex": [
       "\\begin{tabular}{r|lllllllllll}\n",
       " loan\\_amnt & funded\\_amnt & term & int\\_rate & grade & annual\\_inc & issue\\_d & dti & revol\\_bal & total\\_pymnt & loan\\_status\\\\\n",
       "\\hline\n",
       "\t 0 & 0 & 0 & 0 & 0 & 4 & 0 & 0 & 0 & 0 & 0\\\\\n",
       "\\end{tabular}\n"
      ],
      "text/markdown": [
       "\n",
       "loan_amnt | funded_amnt | term | int_rate | grade | annual_inc | issue_d | dti | revol_bal | total_pymnt | loan_status | \n",
       "|---|\n",
       "| 0 | 0 | 0 | 0 | 0 | 4 | 0 | 0 | 0 | 0 | 0 | \n",
       "\n",
       "\n"
      ],
      "text/plain": [
       "  loan_amnt funded_amnt term int_rate grade annual_inc issue_d dti revol_bal\n",
       "1 0         0           0    0        0     4          0       0   0        \n",
       "  total_pymnt loan_status\n",
       "1 0           0          "
      ]
     },
     "metadata": {},
     "output_type": "display_data"
    }
   ],
   "source": [
    "test_selected %>% summarise_all(funs(sum(is.na(.))))"
   ]
  },
  {
   "cell_type": "markdown",
   "metadata": {},
   "source": [
    "There are only four `NA` values and they all appear in the `annual_inc` column. I decided to remove these rows from the data because 4 rows only represents less than a thousandth percent of total observations. "
   ]
  },
  {
   "cell_type": "code",
   "execution_count": 7,
   "metadata": {},
   "outputs": [],
   "source": [
    "test_selected <- test_selected %>% na.omit()"
   ]
  },
  {
   "cell_type": "markdown",
   "metadata": {},
   "source": [
    "After removing the NAs, I examined which columns had `0` values."
   ]
  },
  {
   "cell_type": "code",
   "execution_count": 8,
   "metadata": {},
   "outputs": [
    {
     "data": {
      "text/html": [
       "<dl class=dl-horizontal>\n",
       "\t<dt>loan_amnt</dt>\n",
       "\t\t<dd>0</dd>\n",
       "\t<dt>funded_amnt</dt>\n",
       "\t\t<dd>0</dd>\n",
       "\t<dt>term</dt>\n",
       "\t\t<dd>0</dd>\n",
       "\t<dt>int_rate</dt>\n",
       "\t\t<dd>0</dd>\n",
       "\t<dt>grade</dt>\n",
       "\t\t<dd>0</dd>\n",
       "\t<dt>annual_inc</dt>\n",
       "\t\t<dd>2</dd>\n",
       "\t<dt>issue_d</dt>\n",
       "\t\t<dd>0</dd>\n",
       "\t<dt>dti</dt>\n",
       "\t\t<dd>451</dd>\n",
       "\t<dt>revol_bal</dt>\n",
       "\t\t<dd>3398</dd>\n",
       "\t<dt>total_pymnt</dt>\n",
       "\t\t<dd>17759</dd>\n",
       "\t<dt>loan_status</dt>\n",
       "\t\t<dd>0</dd>\n",
       "</dl>\n"
      ],
      "text/latex": [
       "\\begin{description*}\n",
       "\\item[loan\\textbackslash{}\\_amnt] 0\n",
       "\\item[funded\\textbackslash{}\\_amnt] 0\n",
       "\\item[term] 0\n",
       "\\item[int\\textbackslash{}\\_rate] 0\n",
       "\\item[grade] 0\n",
       "\\item[annual\\textbackslash{}\\_inc] 2\n",
       "\\item[issue\\textbackslash{}\\_d] 0\n",
       "\\item[dti] 451\n",
       "\\item[revol\\textbackslash{}\\_bal] 3398\n",
       "\\item[total\\textbackslash{}\\_pymnt] 17759\n",
       "\\item[loan\\textbackslash{}\\_status] 0\n",
       "\\end{description*}\n"
      ],
      "text/markdown": [
       "loan_amnt\n",
       ":   0funded_amnt\n",
       ":   0term\n",
       ":   0int_rate\n",
       ":   0grade\n",
       ":   0annual_inc\n",
       ":   2issue_d\n",
       ":   0dti\n",
       ":   451revol_bal\n",
       ":   3398total_pymnt\n",
       ":   17759loan_status\n",
       ":   0\n",
       "\n"
      ],
      "text/plain": [
       "  loan_amnt funded_amnt        term    int_rate       grade  annual_inc \n",
       "          0           0           0           0           0           2 \n",
       "    issue_d         dti   revol_bal total_pymnt loan_status \n",
       "          0         451        3398       17759           0 "
      ]
     },
     "metadata": {},
     "output_type": "display_data"
    }
   ],
   "source": [
    "colSums(test_selected == 0)"
   ]
  },
  {
   "cell_type": "markdown",
   "metadata": {},
   "source": [
    "The columns that include 0 values are `annual_inc`, `dti`, `revol_bal`, and `total_pymnt`. It is feasible to have no revolving balance if you have paid off your loans or no payment if you haven't paid any loans. Having an annual income of zero, or having a debt-to-income ratio of zero (which also means zero income) would be suspect when it comes to loan repayment. Since there were a total 453 entries, which represents a fraction of a percent of the total observations, I removed these entries as well."
   ]
  },
  {
   "cell_type": "code",
   "execution_count": 9,
   "metadata": {},
   "outputs": [],
   "source": [
    "test_selected <- test_selected %>% filter(annual_inc > 0, dti > 0)"
   ]
  },
  {
   "cell_type": "markdown",
   "metadata": {},
   "source": [
    "### Removing Outliers\n",
    "\n",
    "I then examine the distribution of the numeric variables to see if there were any outliers. The numeric variables are\n",
    "* `loan_amnt`\n",
    "* `funded_amnt`\n",
    "* `int_rate`\n",
    "* `annual_inc`\n",
    "* `dti`\n",
    "* `revol_bal`\n",
    "* `total_pymnt`\n",
    "\n",
    "I decided for variables `revol_bal` and `total_pymnt` it was acceptable to keep outliers because we are analyzing debt and loan repayment, so it is useful to have as much information about payment as possible.\n",
    "\n",
    "There were notable outliers in the variables `annual_inc` and `dti`. See the boxplots of the variable distribution below with summary statistics. Outliers are represented by red stars:"
   ]
  },
  {
   "cell_type": "code",
   "execution_count": 10,
   "metadata": {},
   "outputs": [
    {
     "data": {},
     "metadata": {},
     "output_type": "display_data"
    },
    {
     "data": {
      "text/plain": [
       "   Min. 1st Qu.  Median    Mean 3rd Qu.    Max. \n",
       "   1200   45000   65000   75034   90000 9500000 "
      ]
     },
     "metadata": {},
     "output_type": "display_data"
    },
    {
     "data": {
      "image/png": "[encoded data removed]",
      "text/plain": [
       "plot without title"
      ]
     },
     "metadata": {},
     "output_type": "display_data"
    }
   ],
   "source": [
    "ggplot(data=test_selected, aes(y=test_selected$annual_inc)) + geom_boxplot(outlier.colour=\"red\", outlier.shape=8,\n",
    "                outlier.size=4) + plotTheme() + labs(y=\"\",title=\"Annual Income\")\n",
    "summary(test_selected$annual_inc)"
   ]
  },
  {
   "cell_type": "code",
   "execution_count": 11,
   "metadata": {},
   "outputs": [
    {
     "data": {},
     "metadata": {},
     "output_type": "display_data"
    },
    {
     "data": {
      "text/plain": [
       "   Min. 1st Qu.  Median    Mean 3rd Qu.    Max. \n",
       "   0.01   11.92   17.66   18.14   23.95 1092.52 "
      ]
     },
     "metadata": {},
     "output_type": "display_data"
    },
    {
     "data": {
      "image/png": "[encoded data removed]",
      "text/plain": [
       "plot without title"
      ]
     },
     "metadata": {},
     "output_type": "display_data"
    }
   ],
   "source": [
    "ggplot(data=test_selected, aes(y=test_selected$dti)) + geom_boxplot(outlier.colour=\"red\", outlier.shape=8,\n",
    "                outlier.size=4) + plotTheme() + labs(y=\"\",title=\"Debt to Income Ratio\")\n",
    "summary(test_selected$dti)"
   ]
  },
  {
   "cell_type": "markdown",
   "metadata": {},
   "source": [
    "It is clear with both distributions that there is a tight distribution on the bottom, then some outliers just above the standard distribution. I wanted to further examine the outliers before discarding them wholesale from the dataset. I removed them using the code below, and then examined the distribution of the outliers starting with `annual_inc`:"
   ]
  },
  {
   "cell_type": "code",
   "execution_count": 12,
   "metadata": {},
   "outputs": [
    {
     "data": {
      "text/plain": [
       "       .          \n",
       " Min.   : 157525  \n",
       " 1st Qu.: 175000  \n",
       " Median : 200000  \n",
       " Mean   : 235543  \n",
       " 3rd Qu.: 247000  \n",
       " Max.   :9500000  "
      ]
     },
     "metadata": {},
     "output_type": "display_data"
    }
   ],
   "source": [
    "inc_out <- boxplot(test_selected$annual_inc, plot=FALSE)$out %>% as.data.frame()\n",
    "summary(inc_out)"
   ]
  },
  {
   "cell_type": "markdown",
   "metadata": {},
   "source": [
    "What these summary statistics show us is that 75% of the outliers for annual income fall between 157525 dollars and 247000 dollars, which is a relatively tight distribution. Instead of removing all ~39,000 outliers, which still only represents 4% of the data, I decided to keep all outliers less than $250000 which leaves 877081 observations in the data set. The updated graph below shows the much tighter distribution of outliers."
   ]
  },
  {
   "cell_type": "code",
   "execution_count": 13,
   "metadata": {},
   "outputs": [
    {
     "data": {},
     "metadata": {},
     "output_type": "display_data"
    },
    {
     "data": {
      "image/png": "[encoded data removed]",
      "text/plain": [
       "plot without title"
      ]
     },
     "metadata": {},
     "output_type": "display_data"
    }
   ],
   "source": [
    "test_selected <- test_selected  %>% filter(annual_inc < 250000)\n",
    "ggplot(data=test_selected, aes(y=test_selected$annual_inc)) + geom_boxplot(outlier.colour=\"red\", outlier.shape=8,\n",
    "                outlier.size=4) + plotTheme() + labs(y=\"\",title=\"Annual Income\")"
   ]
  },
  {
   "cell_type": "markdown",
   "metadata": {},
   "source": [
    "I wanted to check if removing the `annual_inc` would deal with the `dti` outliers. I repeat the same process to examine the `dti` outliers:"
   ]
  },
  {
   "cell_type": "code",
   "execution_count": 14,
   "metadata": {},
   "outputs": [
    {
     "data": {
      "text/plain": [
       "       .          \n",
       " Min.   :  42.03  \n",
       " 1st Qu.:  45.10  \n",
       " Median :  52.80  \n",
       " Mean   :  84.50  \n",
       " 3rd Qu.:  68.36  \n",
       " Max.   :1092.52  "
      ]
     },
     "metadata": {},
     "output_type": "display_data"
    },
    {
     "data": {
      "text/html": [
       "79"
      ],
      "text/latex": [
       "79"
      ],
      "text/markdown": [
       "79"
      ],
      "text/plain": [
       "[1] 79"
      ]
     },
     "metadata": {},
     "output_type": "display_data"
    }
   ],
   "source": [
    "dti_out <- boxplot(test_selected$dti, plot=FALSE)$out %>% as.data.frame()\n",
    "summary(dti_out)\n",
    "nrow(dti_out)"
   ]
  },
  {
   "cell_type": "markdown",
   "metadata": {},
   "source": [
    "Here, there are only 79 outliers, so I feel safe removing them wholesale, as seen below:"
   ]
  },
  {
   "cell_type": "code",
   "execution_count": 15,
   "metadata": {},
   "outputs": [
    {
     "data": {},
     "metadata": {},
     "output_type": "display_data"
    },
    {
     "data": {
      "image/png": "[encoded data removed]",
      "text/plain": [
       "plot without title"
      ]
     },
     "metadata": {},
     "output_type": "display_data"
    }
   ],
   "source": [
    "test_selected <- test_selected  %>% filter(dti < 42.03)\n",
    "ggplot(data=test_selected, aes(y=test_selected$dti)) + geom_boxplot(outlier.colour=\"red\", outlier.shape=8,\n",
    "                outlier.size=4) + plotTheme() + labs(y=\"\",title=\"Debt to Income Ratio\")"
   ]
  },
  {
   "cell_type": "markdown",
   "metadata": {},
   "source": [
    "I now feel comfortable moving onto the analysis questions."
   ]
  },
  {
   "cell_type": "markdown",
   "metadata": {},
   "source": [
    "## Part Two: Business Analysis\n",
    "\n",
    "### Using applicable data\n",
    "\n",
    "The problem asks to analyze 36 Month long leases where 36 months or more data is available. This means doing some filtering to only be looking at the variable where `term` is equal to 36 months. \n",
    "\n",
    "We do not need to do any date-based filtering, since the last loan was issued in 2015, which was over 36 months ago as of earlier this month."
   ]
  },
  {
   "cell_type": "code",
   "execution_count": 16,
   "metadata": {},
   "outputs": [],
   "source": [
    "three_year_term <- test_selected  %>% filter(term == \" 36 months\")"
   ]
  },
  {
   "cell_type": "markdown",
   "metadata": {},
   "source": [
    "### Question One\n",
    "\n",
    "I will then create a categorical variable to determine loan payment. If `total_pymnt` is equal to `loan_amnt`, then we will consider the loan paid in full. I graphed the loans that did not default compared to those that did, and calculated that __30.33% of loans were paid in full in the 36 month period.__"
   ]
  },
  {
   "cell_type": "code",
   "execution_count": 17,
   "metadata": {},
   "outputs": [
    {
     "data": {},
     "metadata": {},
     "output_type": "display_data"
    },
    {
     "data": {
      "text/html": [
       "'30.33%'"
      ],
      "text/latex": [
       "'30.33\\%'"
      ],
      "text/markdown": [
       "'30.33%'"
      ],
      "text/plain": [
       "[1] \"30.33%\""
      ]
     },
     "metadata": {},
     "output_type": "display_data"
    },
    {
     "data": {
      "image/png": "[encoded data removed]",
      "text/plain": [
       "plot without title"
      ]
     },
     "metadata": {},
     "output_type": "display_data"
    }
   ],
   "source": [
    "three_year_term <- three_year_term %>% mutate(default = loan_amnt-total_pymnt)  %>% \n",
    "mutate(default = ifelse(default > 0, \"Yes\", \"No\"))  %>% \n",
    "mutate(default_number = ifelse(default == \"Yes\", 0, 1))\n",
    "ggplot(three_year_term, aes(x=default,fill=default)) + geom_bar() + plotTheme() + labs(y=\"Count\", fill=\"Defaulted?\") \n",
    "pct_paid = paste0(round(sum(three_year_term$default_number)/nrow(three_year_term) * 100, 2), \"%\")\n",
    "pct_paid"
   ]
  },
  {
   "cell_type": "markdown",
   "metadata": {},
   "source": [
    "### Question Two\n",
    "\n",
    "I then needed to learn how the organizing by grade and year issued impacted the default rate. This first required me to make a year variable from the `issue_d` variable."
   ]
  },
  {
   "cell_type": "code",
   "execution_count": 18,
   "metadata": {},
   "outputs": [],
   "source": [
    "three_year_term <- three_year_term  %>% mutate(year = substring(issue_d, 5,9))"
   ]
  },
  {
   "cell_type": "markdown",
   "metadata": {},
   "source": [
    "I then grouped the data by year and grade and created a rate of default by finding 1 minus the percent of `default_number` multiplied by 100. I also included the count of how many loans were issued in that year to each grade, for context."
   ]
  },
  {
   "cell_type": "code",
   "execution_count": 19,
   "metadata": {},
   "outputs": [
    {
     "data": {
      "text/html": [
       "<table>\n",
       "<thead><tr><th scope=col>grade</th><th scope=col>year</th><th scope=col>count</th><th scope=col>default_rate</th></tr></thead>\n",
       "<tbody>\n",
       "\t<tr><td>A     </td><td>2015  </td><td>68602 </td><td>95.57%</td></tr>\n",
       "\t<tr><td>B     </td><td>2015  </td><td>90602 </td><td>94.89%</td></tr>\n",
       "\t<tr><td>C     </td><td>2015  </td><td>76780 </td><td>93.19%</td></tr>\n",
       "\t<tr><td>F     </td><td>2015  </td><td> 1358 </td><td>92.34%</td></tr>\n",
       "\t<tr><td>D     </td><td>2015  </td><td>32427 </td><td>92.29%</td></tr>\n",
       "\t<tr><td>E     </td><td>2015  </td><td> 9374 </td><td>92.21%</td></tr>\n",
       "\t<tr><td>G     </td><td>2015  </td><td>  245 </td><td>91.84%</td></tr>\n",
       "\t<tr><td>F     </td><td>2014  </td><td> 1951 </td><td>76.88%</td></tr>\n",
       "\t<tr><td>G     </td><td>2014  </td><td>  173 </td><td>76.88%</td></tr>\n",
       "\t<tr><td>A     </td><td>2014  </td><td>34724 </td><td>75.39%</td></tr>\n",
       "\t<tr><td>E     </td><td>2014  </td><td> 7008 </td><td>74.96%</td></tr>\n",
       "\t<tr><td>D     </td><td>2014  </td><td>20317 </td><td>74.12%</td></tr>\n",
       "\t<tr><td>C     </td><td>2014  </td><td>43645 </td><td>73.65%</td></tr>\n",
       "\t<tr><td>B     </td><td>2014  </td><td>52893 </td><td>73.19%</td></tr>\n",
       "\t<tr><td>G     </td><td>2007  </td><td>   33 </td><td>48.48%</td></tr>\n",
       "\t<tr><td>F     </td><td>2007  </td><td>   51 </td><td>47.06%</td></tr>\n",
       "\t<tr><td>A     </td><td>2013  </td><td>16796 </td><td>42.53%</td></tr>\n",
       "\t<tr><td>G     </td><td>2013  </td><td>   13 </td><td>38.46%</td></tr>\n",
       "\t<tr><td>F     </td><td>2013  </td><td>  595 </td><td>37.82%</td></tr>\n",
       "\t<tr><td>B     </td><td>2013  </td><td>40018 </td><td>37.68%</td></tr>\n",
       "\t<tr><td>F     </td><td>2008  </td><td>  111 </td><td>36.04%</td></tr>\n",
       "\t<tr><td>C     </td><td>2013  </td><td>24478 </td><td>34.82%</td></tr>\n",
       "\t<tr><td>G     </td><td>2011  </td><td>    9 </td><td>33.33%</td></tr>\n",
       "\t<tr><td>G     </td><td>2008  </td><td>   85 </td><td>32.94%</td></tr>\n",
       "\t<tr><td>E     </td><td>2013  </td><td> 3196 </td><td>31.32%</td></tr>\n",
       "\t<tr><td>D     </td><td>2013  </td><td>14392 </td><td>29.81%</td></tr>\n",
       "\t<tr><td>C     </td><td>2008  </td><td>  570 </td><td>29.47%</td></tr>\n",
       "\t<tr><td>D     </td><td>2008  </td><td>  418 </td><td>29.43%</td></tr>\n",
       "\t<tr><td>G     </td><td>2010  </td><td>   34 </td><td>29.41%</td></tr>\n",
       "\t<tr><td>B     </td><td>2008  </td><td>  582 </td><td>28.87%</td></tr>\n",
       "\t<tr><td>...</td><td>...</td><td>...</td><td>...</td></tr>\n",
       "\t<tr><td>E     </td><td>2007  </td><td>   94 </td><td>23.4% </td></tr>\n",
       "\t<tr><td>F     </td><td>2009  </td><td>  104 </td><td>23.08%</td></tr>\n",
       "\t<tr><td>C     </td><td>2007  </td><td>  135 </td><td>22.96%</td></tr>\n",
       "\t<tr><td>F     </td><td>2010  </td><td>   84 </td><td>21.43%</td></tr>\n",
       "\t<tr><td>E     </td><td>2010  </td><td>  325 </td><td>20.92%</td></tr>\n",
       "\t<tr><td>F     </td><td>2011  </td><td>   54 </td><td>20.37%</td></tr>\n",
       "\t<tr><td>E     </td><td>2009  </td><td>  301 </td><td>20.27%</td></tr>\n",
       "\t<tr><td>E     </td><td>2012  </td><td>  784 </td><td>18.37%</td></tr>\n",
       "\t<tr><td>F     </td><td>2012  </td><td>   98 </td><td>18.37%</td></tr>\n",
       "\t<tr><td>E     </td><td>2011  </td><td>  267 </td><td>18.35%</td></tr>\n",
       "\t<tr><td>D     </td><td>2012  </td><td> 5033 </td><td>17.82%</td></tr>\n",
       "\t<tr><td>D     </td><td>2010  </td><td> 1224 </td><td>16.67%</td></tr>\n",
       "\t<tr><td>D     </td><td>2011  </td><td> 1244 </td><td>16.4% </td></tr>\n",
       "\t<tr><td>A     </td><td>2008  </td><td>  305 </td><td>16.07%</td></tr>\n",
       "\t<tr><td>D     </td><td>2009  </td><td>  800 </td><td>15.75%</td></tr>\n",
       "\t<tr><td>C     </td><td>2012  </td><td> 9849 </td><td>15.23%</td></tr>\n",
       "\t<tr><td>A     </td><td>2010  </td><td> 2543 </td><td>14.27%</td></tr>\n",
       "\t<tr><td>C     </td><td>2011  </td><td> 2178 </td><td>14.05%</td></tr>\n",
       "\t<tr><td>G     </td><td>2012  </td><td>   22 </td><td>13.64%</td></tr>\n",
       "\t<tr><td>C     </td><td>2009  </td><td> 1328 </td><td>13.63%</td></tr>\n",
       "\t<tr><td>B     </td><td>2007  </td><td>   90 </td><td>13.33%</td></tr>\n",
       "\t<tr><td>C     </td><td>2010  </td><td> 2040 </td><td>12.35%</td></tr>\n",
       "\t<tr><td>B     </td><td>2009  </td><td> 1419 </td><td>11.35%</td></tr>\n",
       "\t<tr><td>B     </td><td>2010  </td><td> 2759 </td><td>11.31%</td></tr>\n",
       "\t<tr><td>B     </td><td>2012  </td><td>16697 </td><td>11.3% </td></tr>\n",
       "\t<tr><td>B     </td><td>2011  </td><td> 4674 </td><td>9.56% </td></tr>\n",
       "\t<tr><td>A     </td><td>2012  </td><td>10658 </td><td>6.83% </td></tr>\n",
       "\t<tr><td>A     </td><td>2011  </td><td> 5527 </td><td>6.82% </td></tr>\n",
       "\t<tr><td>A     </td><td>2009  </td><td> 1174 </td><td>5.96% </td></tr>\n",
       "\t<tr><td>A     </td><td>2007  </td><td>   68 </td><td>4.41% </td></tr>\n",
       "</tbody>\n",
       "</table>\n"
      ],
      "text/latex": [
       "\\begin{tabular}{r|llll}\n",
       " grade & year & count & default\\_rate\\\\\n",
       "\\hline\n",
       "\t A        & 2015     & 68602    & 95.57\\%\\\\\n",
       "\t B        & 2015     & 90602    & 94.89\\%\\\\\n",
       "\t C        & 2015     & 76780    & 93.19\\%\\\\\n",
       "\t F        & 2015     &  1358    & 92.34\\%\\\\\n",
       "\t D        & 2015     & 32427    & 92.29\\%\\\\\n",
       "\t E        & 2015     &  9374    & 92.21\\%\\\\\n",
       "\t G        & 2015     &   245    & 91.84\\%\\\\\n",
       "\t F        & 2014     &  1951    & 76.88\\%\\\\\n",
       "\t G        & 2014     &   173    & 76.88\\%\\\\\n",
       "\t A        & 2014     & 34724    & 75.39\\%\\\\\n",
       "\t E        & 2014     &  7008    & 74.96\\%\\\\\n",
       "\t D        & 2014     & 20317    & 74.12\\%\\\\\n",
       "\t C        & 2014     & 43645    & 73.65\\%\\\\\n",
       "\t B        & 2014     & 52893    & 73.19\\%\\\\\n",
       "\t G        & 2007     &    33    & 48.48\\%\\\\\n",
       "\t F        & 2007     &    51    & 47.06\\%\\\\\n",
       "\t A        & 2013     & 16796    & 42.53\\%\\\\\n",
       "\t G        & 2013     &    13    & 38.46\\%\\\\\n",
       "\t F        & 2013     &   595    & 37.82\\%\\\\\n",
       "\t B        & 2013     & 40018    & 37.68\\%\\\\\n",
       "\t F        & 2008     &   111    & 36.04\\%\\\\\n",
       "\t C        & 2013     & 24478    & 34.82\\%\\\\\n",
       "\t G        & 2011     &     9    & 33.33\\%\\\\\n",
       "\t G        & 2008     &    85    & 32.94\\%\\\\\n",
       "\t E        & 2013     &  3196    & 31.32\\%\\\\\n",
       "\t D        & 2013     & 14392    & 29.81\\%\\\\\n",
       "\t C        & 2008     &   570    & 29.47\\%\\\\\n",
       "\t D        & 2008     &   418    & 29.43\\%\\\\\n",
       "\t G        & 2010     &    34    & 29.41\\%\\\\\n",
       "\t B        & 2008     &   582    & 28.87\\%\\\\\n",
       "\t ... & ... & ... & ...\\\\\n",
       "\t E        & 2007     &    94    & 23.4\\% \\\\\n",
       "\t F        & 2009     &   104    & 23.08\\%\\\\\n",
       "\t C        & 2007     &   135    & 22.96\\%\\\\\n",
       "\t F        & 2010     &    84    & 21.43\\%\\\\\n",
       "\t E        & 2010     &   325    & 20.92\\%\\\\\n",
       "\t F        & 2011     &    54    & 20.37\\%\\\\\n",
       "\t E        & 2009     &   301    & 20.27\\%\\\\\n",
       "\t E        & 2012     &   784    & 18.37\\%\\\\\n",
       "\t F        & 2012     &    98    & 18.37\\%\\\\\n",
       "\t E        & 2011     &   267    & 18.35\\%\\\\\n",
       "\t D        & 2012     &  5033    & 17.82\\%\\\\\n",
       "\t D        & 2010     &  1224    & 16.67\\%\\\\\n",
       "\t D        & 2011     &  1244    & 16.4\\% \\\\\n",
       "\t A        & 2008     &   305    & 16.07\\%\\\\\n",
       "\t D        & 2009     &   800    & 15.75\\%\\\\\n",
       "\t C        & 2012     &  9849    & 15.23\\%\\\\\n",
       "\t A        & 2010     &  2543    & 14.27\\%\\\\\n",
       "\t C        & 2011     &  2178    & 14.05\\%\\\\\n",
       "\t G        & 2012     &    22    & 13.64\\%\\\\\n",
       "\t C        & 2009     &  1328    & 13.63\\%\\\\\n",
       "\t B        & 2007     &    90    & 13.33\\%\\\\\n",
       "\t C        & 2010     &  2040    & 12.35\\%\\\\\n",
       "\t B        & 2009     &  1419    & 11.35\\%\\\\\n",
       "\t B        & 2010     &  2759    & 11.31\\%\\\\\n",
       "\t B        & 2012     & 16697    & 11.3\\% \\\\\n",
       "\t B        & 2011     &  4674    & 9.56\\% \\\\\n",
       "\t A        & 2012     & 10658    & 6.83\\% \\\\\n",
       "\t A        & 2011     &  5527    & 6.82\\% \\\\\n",
       "\t A        & 2009     &  1174    & 5.96\\% \\\\\n",
       "\t A        & 2007     &    68    & 4.41\\% \\\\\n",
       "\\end{tabular}\n"
      ],
      "text/markdown": [
       "\n",
       "grade | year | count | default_rate | \n",
       "|---|---|---|---|---|---|---|---|---|---|---|---|---|---|---|---|---|---|---|---|---|---|---|---|---|---|---|---|---|---|---|---|---|---|---|---|---|---|---|---|---|---|---|---|---|---|---|---|---|---|---|---|---|---|---|---|---|---|---|---|---|\n",
       "| A      | 2015   | 68602  | 95.57% | \n",
       "| B      | 2015   | 90602  | 94.89% | \n",
       "| C      | 2015   | 76780  | 93.19% | \n",
       "| F      | 2015   |  1358  | 92.34% | \n",
       "| D      | 2015   | 32427  | 92.29% | \n",
       "| E      | 2015   |  9374  | 92.21% | \n",
       "| G      | 2015   |   245  | 91.84% | \n",
       "| F      | 2014   |  1951  | 76.88% | \n",
       "| G      | 2014   |   173  | 76.88% | \n",
       "| A      | 2014   | 34724  | 75.39% | \n",
       "| E      | 2014   |  7008  | 74.96% | \n",
       "| D      | 2014   | 20317  | 74.12% | \n",
       "| C      | 2014   | 43645  | 73.65% | \n",
       "| B      | 2014   | 52893  | 73.19% | \n",
       "| G      | 2007   |    33  | 48.48% | \n",
       "| F      | 2007   |    51  | 47.06% | \n",
       "| A      | 2013   | 16796  | 42.53% | \n",
       "| G      | 2013   |    13  | 38.46% | \n",
       "| F      | 2013   |   595  | 37.82% | \n",
       "| B      | 2013   | 40018  | 37.68% | \n",
       "| F      | 2008   |   111  | 36.04% | \n",
       "| C      | 2013   | 24478  | 34.82% | \n",
       "| G      | 2011   |     9  | 33.33% | \n",
       "| G      | 2008   |    85  | 32.94% | \n",
       "| E      | 2013   |  3196  | 31.32% | \n",
       "| D      | 2013   | 14392  | 29.81% | \n",
       "| C      | 2008   |   570  | 29.47% | \n",
       "| D      | 2008   |   418  | 29.43% | \n",
       "| G      | 2010   |    34  | 29.41% | \n",
       "| B      | 2008   |   582  | 28.87% | \n",
       "| ... | ... | ... | ... | \n",
       "| E      | 2007   |    94  | 23.4%  | \n",
       "| F      | 2009   |   104  | 23.08% | \n",
       "| C      | 2007   |   135  | 22.96% | \n",
       "| F      | 2010   |    84  | 21.43% | \n",
       "| E      | 2010   |   325  | 20.92% | \n",
       "| F      | 2011   |    54  | 20.37% | \n",
       "| E      | 2009   |   301  | 20.27% | \n",
       "| E      | 2012   |   784  | 18.37% | \n",
       "| F      | 2012   |    98  | 18.37% | \n",
       "| E      | 2011   |   267  | 18.35% | \n",
       "| D      | 2012   |  5033  | 17.82% | \n",
       "| D      | 2010   |  1224  | 16.67% | \n",
       "| D      | 2011   |  1244  | 16.4%  | \n",
       "| A      | 2008   |   305  | 16.07% | \n",
       "| D      | 2009   |   800  | 15.75% | \n",
       "| C      | 2012   |  9849  | 15.23% | \n",
       "| A      | 2010   |  2543  | 14.27% | \n",
       "| C      | 2011   |  2178  | 14.05% | \n",
       "| G      | 2012   |    22  | 13.64% | \n",
       "| C      | 2009   |  1328  | 13.63% | \n",
       "| B      | 2007   |    90  | 13.33% | \n",
       "| C      | 2010   |  2040  | 12.35% | \n",
       "| B      | 2009   |  1419  | 11.35% | \n",
       "| B      | 2010   |  2759  | 11.31% | \n",
       "| B      | 2012   | 16697  | 11.3%  | \n",
       "| B      | 2011   |  4674  | 9.56%  | \n",
       "| A      | 2012   | 10658  | 6.83%  | \n",
       "| A      | 2011   |  5527  | 6.82%  | \n",
       "| A      | 2009   |  1174  | 5.96%  | \n",
       "| A      | 2007   |    68  | 4.41%  | \n",
       "\n",
       "\n"
      ],
      "text/plain": [
       "    grade year count default_rate\n",
       "1   A     2015 68602 95.57%      \n",
       "2   B     2015 90602 94.89%      \n",
       "3   C     2015 76780 93.19%      \n",
       "4   F     2015  1358 92.34%      \n",
       "5   D     2015 32427 92.29%      \n",
       "6   E     2015  9374 92.21%      \n",
       "7   G     2015   245 91.84%      \n",
       "8   F     2014  1951 76.88%      \n",
       "9   G     2014   173 76.88%      \n",
       "10  A     2014 34724 75.39%      \n",
       "11  E     2014  7008 74.96%      \n",
       "12  D     2014 20317 74.12%      \n",
       "13  C     2014 43645 73.65%      \n",
       "14  B     2014 52893 73.19%      \n",
       "15  G     2007    33 48.48%      \n",
       "16  F     2007    51 47.06%      \n",
       "17  A     2013 16796 42.53%      \n",
       "18  G     2013    13 38.46%      \n",
       "19  F     2013   595 37.82%      \n",
       "20  B     2013 40018 37.68%      \n",
       "21  F     2008   111 36.04%      \n",
       "22  C     2013 24478 34.82%      \n",
       "23  G     2011     9 33.33%      \n",
       "24  G     2008    85 32.94%      \n",
       "25  E     2013  3196 31.32%      \n",
       "26  D     2013 14392 29.81%      \n",
       "27  C     2008   570 29.47%      \n",
       "28  D     2008   418 29.43%      \n",
       "29  G     2010    34 29.41%      \n",
       "30  B     2008   582 28.87%      \n",
       "... ...   ...  ...   ...         \n",
       "34  E     2007    94 23.4%       \n",
       "35  F     2009   104 23.08%      \n",
       "36  C     2007   135 22.96%      \n",
       "37  F     2010    84 21.43%      \n",
       "38  E     2010   325 20.92%      \n",
       "39  F     2011    54 20.37%      \n",
       "40  E     2009   301 20.27%      \n",
       "41  E     2012   784 18.37%      \n",
       "42  F     2012    98 18.37%      \n",
       "43  E     2011   267 18.35%      \n",
       "44  D     2012  5033 17.82%      \n",
       "45  D     2010  1224 16.67%      \n",
       "46  D     2011  1244 16.4%       \n",
       "47  A     2008   305 16.07%      \n",
       "48  D     2009   800 15.75%      \n",
       "49  C     2012  9849 15.23%      \n",
       "50  A     2010  2543 14.27%      \n",
       "51  C     2011  2178 14.05%      \n",
       "52  G     2012    22 13.64%      \n",
       "53  C     2009  1328 13.63%      \n",
       "54  B     2007    90 13.33%      \n",
       "55  C     2010  2040 12.35%      \n",
       "56  B     2009  1419 11.35%      \n",
       "57  B     2010  2759 11.31%      \n",
       "58  B     2012 16697 11.3%       \n",
       "59  B     2011  4674 9.56%       \n",
       "60  A     2012 10658 6.83%       \n",
       "61  A     2011  5527 6.82%       \n",
       "62  A     2009  1174 5.96%       \n",
       "63  A     2007    68 4.41%       "
      ]
     },
     "metadata": {},
     "output_type": "display_data"
    }
   ],
   "source": [
    "three_year_term %>% group_by(grade,year) %>% summarise(count = n(), \n",
    "                                                       default_rate =  1 - sum(default_number)/count) %>% \n",
    "arrange(desc(default_rate))  %>% \n",
    "mutate(default_rate = paste0(round(default_rate*100,2),\"%\"))"
   ]
  },
  {
   "cell_type": "markdown",
   "metadata": {},
   "source": [
    "We can see that loans issued a __A Grade in 2015__ had the highest rate of default\n",
    "\n",
    "### Question 3\n",
    "\n",
    "I went through a similar process to find which grade and year combination had the highest annualized rate of return on average. I first created an annualized rate of return column using the formula provided. I then found the average by grade and year. __Loans issued a G grade in 2012 had the highest mean annualized rate of return__"
   ]
  },
  {
   "cell_type": "code",
   "execution_count": 20,
   "metadata": {},
   "outputs": [
    {
     "data": {
      "text/html": [
       "<table>\n",
       "<thead><tr><th scope=col>grade</th><th scope=col>year</th><th scope=col>mean_ann_RoR</th></tr></thead>\n",
       "<tbody>\n",
       "\t<tr><td>G     </td><td>2012  </td><td>3.55% </td></tr>\n",
       "\t<tr><td>E     </td><td>2012  </td><td>3.23% </td></tr>\n",
       "\t<tr><td>F     </td><td>2012  </td><td>2.85% </td></tr>\n",
       "\t<tr><td>A     </td><td>2007  </td><td>2.6%  </td></tr>\n",
       "\t<tr><td>D     </td><td>2012  </td><td>2.39% </td></tr>\n",
       "\t<tr><td>B     </td><td>2012  </td><td>2.34% </td></tr>\n",
       "\t<tr><td>A     </td><td>2008  </td><td>2.34% </td></tr>\n",
       "\t<tr><td>E     </td><td>2011  </td><td>2.33% </td></tr>\n",
       "\t<tr><td>C     </td><td>2010  </td><td>2.23% </td></tr>\n",
       "\t<tr><td>F     </td><td>2011  </td><td>2.23% </td></tr>\n",
       "\t<tr><td>C     </td><td>2012  </td><td>2.2%  </td></tr>\n",
       "\t<tr><td>A     </td><td>2009  </td><td>2.2%  </td></tr>\n",
       "\t<tr><td>B     </td><td>2010  </td><td>2.18% </td></tr>\n",
       "\t<tr><td>B     </td><td>2011  </td><td>2.18% </td></tr>\n",
       "\t<tr><td>A     </td><td>2010  </td><td>2.15% </td></tr>\n",
       "\t<tr><td>D     </td><td>2011  </td><td>2.1%  </td></tr>\n",
       "\t<tr><td>C     </td><td>2011  </td><td>1.71% </td></tr>\n",
       "\t<tr><td>A     </td><td>2012  </td><td>1.56% </td></tr>\n",
       "\t<tr><td>A     </td><td>2011  </td><td>1.49% </td></tr>\n",
       "\t<tr><td>B     </td><td>2009  </td><td>1.42% </td></tr>\n",
       "\t<tr><td>D     </td><td>2009  </td><td>1.36% </td></tr>\n",
       "\t<tr><td>E     </td><td>2010  </td><td>1.33% </td></tr>\n",
       "\t<tr><td>D     </td><td>2010  </td><td>1.31% </td></tr>\n",
       "\t<tr><td>C     </td><td>2009  </td><td>1.22% </td></tr>\n",
       "\t<tr><td>B     </td><td>2007  </td><td>0.63% </td></tr>\n",
       "\t<tr><td>F     </td><td>2009  </td><td>0.3%  </td></tr>\n",
       "\t<tr><td>B     </td><td>2008  </td><td>0.03% </td></tr>\n",
       "\t<tr><td>G     </td><td>2008  </td><td>-0.11%</td></tr>\n",
       "\t<tr><td>D     </td><td>2013  </td><td>-0.14%</td></tr>\n",
       "\t<tr><td>C     </td><td>2013  </td><td>-0.16%</td></tr>\n",
       "\t<tr><td>...</td><td>...</td><td>...</td></tr>\n",
       "\t<tr><td>B      </td><td>2013   </td><td>-0.39% </td></tr>\n",
       "\t<tr><td>E      </td><td>2008   </td><td>-0.39% </td></tr>\n",
       "\t<tr><td>C      </td><td>2008   </td><td>-0.41% </td></tr>\n",
       "\t<tr><td>C      </td><td>2007   </td><td>-0.51% </td></tr>\n",
       "\t<tr><td>G      </td><td>2009   </td><td>-0.53% </td></tr>\n",
       "\t<tr><td>E      </td><td>2013   </td><td>-0.54% </td></tr>\n",
       "\t<tr><td>G      </td><td>2010   </td><td>-0.77% </td></tr>\n",
       "\t<tr><td>D      </td><td>2007   </td><td>-1.11% </td></tr>\n",
       "\t<tr><td>G      </td><td>2011   </td><td>-1.31% </td></tr>\n",
       "\t<tr><td>A      </td><td>2013   </td><td>-1.32% </td></tr>\n",
       "\t<tr><td>F      </td><td>2013   </td><td>-1.79% </td></tr>\n",
       "\t<tr><td>D      </td><td>2008   </td><td>-1.86% </td></tr>\n",
       "\t<tr><td>G      </td><td>2013   </td><td>-3.57% </td></tr>\n",
       "\t<tr><td>F      </td><td>2008   </td><td>-4.51% </td></tr>\n",
       "\t<tr><td>G      </td><td>2007   </td><td>-4.97% </td></tr>\n",
       "\t<tr><td>F      </td><td>2007   </td><td>-7.68% </td></tr>\n",
       "\t<tr><td>F      </td><td>2014   </td><td>-10.55%</td></tr>\n",
       "\t<tr><td>E      </td><td>2014   </td><td>-11.49%</td></tr>\n",
       "\t<tr><td>D      </td><td>2014   </td><td>-11.85%</td></tr>\n",
       "\t<tr><td>B      </td><td>2014   </td><td>-11.87%</td></tr>\n",
       "\t<tr><td>C      </td><td>2014   </td><td>-11.95%</td></tr>\n",
       "\t<tr><td>G      </td><td>2014   </td><td>-12.36%</td></tr>\n",
       "\t<tr><td>A      </td><td>2014   </td><td>-13.94%</td></tr>\n",
       "\t<tr><td>E      </td><td>2015   </td><td>-40.66%</td></tr>\n",
       "\t<tr><td>D      </td><td>2015   </td><td>-41.53%</td></tr>\n",
       "\t<tr><td>F      </td><td>2015   </td><td>-42.48%</td></tr>\n",
       "\t<tr><td>C      </td><td>2015   </td><td>-43.82%</td></tr>\n",
       "\t<tr><td>G      </td><td>2015   </td><td>-45.56%</td></tr>\n",
       "\t<tr><td>A      </td><td>2015   </td><td>-45.83%</td></tr>\n",
       "\t<tr><td>B      </td><td>2015   </td><td>-46.48%</td></tr>\n",
       "</tbody>\n",
       "</table>\n"
      ],
      "text/latex": [
       "\\begin{tabular}{r|lll}\n",
       " grade & year & mean\\_ann\\_RoR\\\\\n",
       "\\hline\n",
       "\t G        & 2012     & 3.55\\% \\\\\n",
       "\t E        & 2012     & 3.23\\% \\\\\n",
       "\t F        & 2012     & 2.85\\% \\\\\n",
       "\t A        & 2007     & 2.6\\%  \\\\\n",
       "\t D        & 2012     & 2.39\\% \\\\\n",
       "\t B        & 2012     & 2.34\\% \\\\\n",
       "\t A        & 2008     & 2.34\\% \\\\\n",
       "\t E        & 2011     & 2.33\\% \\\\\n",
       "\t C        & 2010     & 2.23\\% \\\\\n",
       "\t F        & 2011     & 2.23\\% \\\\\n",
       "\t C        & 2012     & 2.2\\%  \\\\\n",
       "\t A        & 2009     & 2.2\\%  \\\\\n",
       "\t B        & 2010     & 2.18\\% \\\\\n",
       "\t B        & 2011     & 2.18\\% \\\\\n",
       "\t A        & 2010     & 2.15\\% \\\\\n",
       "\t D        & 2011     & 2.1\\%  \\\\\n",
       "\t C        & 2011     & 1.71\\% \\\\\n",
       "\t A        & 2012     & 1.56\\% \\\\\n",
       "\t A        & 2011     & 1.49\\% \\\\\n",
       "\t B        & 2009     & 1.42\\% \\\\\n",
       "\t D        & 2009     & 1.36\\% \\\\\n",
       "\t E        & 2010     & 1.33\\% \\\\\n",
       "\t D        & 2010     & 1.31\\% \\\\\n",
       "\t C        & 2009     & 1.22\\% \\\\\n",
       "\t B        & 2007     & 0.63\\% \\\\\n",
       "\t F        & 2009     & 0.3\\%  \\\\\n",
       "\t B        & 2008     & 0.03\\% \\\\\n",
       "\t G        & 2008     & -0.11\\%\\\\\n",
       "\t D        & 2013     & -0.14\\%\\\\\n",
       "\t C        & 2013     & -0.16\\%\\\\\n",
       "\t ... & ... & ...\\\\\n",
       "\t B         & 2013      & -0.39\\% \\\\\n",
       "\t E         & 2008      & -0.39\\% \\\\\n",
       "\t C         & 2008      & -0.41\\% \\\\\n",
       "\t C         & 2007      & -0.51\\% \\\\\n",
       "\t G         & 2009      & -0.53\\% \\\\\n",
       "\t E         & 2013      & -0.54\\% \\\\\n",
       "\t G         & 2010      & -0.77\\% \\\\\n",
       "\t D         & 2007      & -1.11\\% \\\\\n",
       "\t G         & 2011      & -1.31\\% \\\\\n",
       "\t A         & 2013      & -1.32\\% \\\\\n",
       "\t F         & 2013      & -1.79\\% \\\\\n",
       "\t D         & 2008      & -1.86\\% \\\\\n",
       "\t G         & 2013      & -3.57\\% \\\\\n",
       "\t F         & 2008      & -4.51\\% \\\\\n",
       "\t G         & 2007      & -4.97\\% \\\\\n",
       "\t F         & 2007      & -7.68\\% \\\\\n",
       "\t F         & 2014      & -10.55\\%\\\\\n",
       "\t E         & 2014      & -11.49\\%\\\\\n",
       "\t D         & 2014      & -11.85\\%\\\\\n",
       "\t B         & 2014      & -11.87\\%\\\\\n",
       "\t C         & 2014      & -11.95\\%\\\\\n",
       "\t G         & 2014      & -12.36\\%\\\\\n",
       "\t A         & 2014      & -13.94\\%\\\\\n",
       "\t E         & 2015      & -40.66\\%\\\\\n",
       "\t D         & 2015      & -41.53\\%\\\\\n",
       "\t F         & 2015      & -42.48\\%\\\\\n",
       "\t C         & 2015      & -43.82\\%\\\\\n",
       "\t G         & 2015      & -45.56\\%\\\\\n",
       "\t A         & 2015      & -45.83\\%\\\\\n",
       "\t B         & 2015      & -46.48\\%\\\\\n",
       "\\end{tabular}\n"
      ],
      "text/markdown": [
       "\n",
       "grade | year | mean_ann_RoR | \n",
       "|---|---|---|---|---|---|---|---|---|---|---|---|---|---|---|---|---|---|---|---|---|---|---|---|---|---|---|---|---|---|---|---|---|---|---|---|---|---|---|---|---|---|---|---|---|---|---|---|---|---|---|---|---|---|---|---|---|---|---|---|---|\n",
       "| G      | 2012   | 3.55%  | \n",
       "| E      | 2012   | 3.23%  | \n",
       "| F      | 2012   | 2.85%  | \n",
       "| A      | 2007   | 2.6%   | \n",
       "| D      | 2012   | 2.39%  | \n",
       "| B      | 2012   | 2.34%  | \n",
       "| A      | 2008   | 2.34%  | \n",
       "| E      | 2011   | 2.33%  | \n",
       "| C      | 2010   | 2.23%  | \n",
       "| F      | 2011   | 2.23%  | \n",
       "| C      | 2012   | 2.2%   | \n",
       "| A      | 2009   | 2.2%   | \n",
       "| B      | 2010   | 2.18%  | \n",
       "| B      | 2011   | 2.18%  | \n",
       "| A      | 2010   | 2.15%  | \n",
       "| D      | 2011   | 2.1%   | \n",
       "| C      | 2011   | 1.71%  | \n",
       "| A      | 2012   | 1.56%  | \n",
       "| A      | 2011   | 1.49%  | \n",
       "| B      | 2009   | 1.42%  | \n",
       "| D      | 2009   | 1.36%  | \n",
       "| E      | 2010   | 1.33%  | \n",
       "| D      | 2010   | 1.31%  | \n",
       "| C      | 2009   | 1.22%  | \n",
       "| B      | 2007   | 0.63%  | \n",
       "| F      | 2009   | 0.3%   | \n",
       "| B      | 2008   | 0.03%  | \n",
       "| G      | 2008   | -0.11% | \n",
       "| D      | 2013   | -0.14% | \n",
       "| C      | 2013   | -0.16% | \n",
       "| ... | ... | ... | \n",
       "| B       | 2013    | -0.39%  | \n",
       "| E       | 2008    | -0.39%  | \n",
       "| C       | 2008    | -0.41%  | \n",
       "| C       | 2007    | -0.51%  | \n",
       "| G       | 2009    | -0.53%  | \n",
       "| E       | 2013    | -0.54%  | \n",
       "| G       | 2010    | -0.77%  | \n",
       "| D       | 2007    | -1.11%  | \n",
       "| G       | 2011    | -1.31%  | \n",
       "| A       | 2013    | -1.32%  | \n",
       "| F       | 2013    | -1.79%  | \n",
       "| D       | 2008    | -1.86%  | \n",
       "| G       | 2013    | -3.57%  | \n",
       "| F       | 2008    | -4.51%  | \n",
       "| G       | 2007    | -4.97%  | \n",
       "| F       | 2007    | -7.68%  | \n",
       "| F       | 2014    | -10.55% | \n",
       "| E       | 2014    | -11.49% | \n",
       "| D       | 2014    | -11.85% | \n",
       "| B       | 2014    | -11.87% | \n",
       "| C       | 2014    | -11.95% | \n",
       "| G       | 2014    | -12.36% | \n",
       "| A       | 2014    | -13.94% | \n",
       "| E       | 2015    | -40.66% | \n",
       "| D       | 2015    | -41.53% | \n",
       "| F       | 2015    | -42.48% | \n",
       "| C       | 2015    | -43.82% | \n",
       "| G       | 2015    | -45.56% | \n",
       "| A       | 2015    | -45.83% | \n",
       "| B       | 2015    | -46.48% | \n",
       "\n",
       "\n"
      ],
      "text/plain": [
       "    grade year mean_ann_RoR\n",
       "1   G     2012 3.55%       \n",
       "2   E     2012 3.23%       \n",
       "3   F     2012 2.85%       \n",
       "4   A     2007 2.6%        \n",
       "5   D     2012 2.39%       \n",
       "6   B     2012 2.34%       \n",
       "7   A     2008 2.34%       \n",
       "8   E     2011 2.33%       \n",
       "9   C     2010 2.23%       \n",
       "10  F     2011 2.23%       \n",
       "11  C     2012 2.2%        \n",
       "12  A     2009 2.2%        \n",
       "13  B     2010 2.18%       \n",
       "14  B     2011 2.18%       \n",
       "15  A     2010 2.15%       \n",
       "16  D     2011 2.1%        \n",
       "17  C     2011 1.71%       \n",
       "18  A     2012 1.56%       \n",
       "19  A     2011 1.49%       \n",
       "20  B     2009 1.42%       \n",
       "21  D     2009 1.36%       \n",
       "22  E     2010 1.33%       \n",
       "23  D     2010 1.31%       \n",
       "24  C     2009 1.22%       \n",
       "25  B     2007 0.63%       \n",
       "26  F     2009 0.3%        \n",
       "27  B     2008 0.03%       \n",
       "28  G     2008 -0.11%      \n",
       "29  D     2013 -0.14%      \n",
       "30  C     2013 -0.16%      \n",
       "... ...   ...  ...         \n",
       "34  B     2013 -0.39%      \n",
       "35  E     2008 -0.39%      \n",
       "36  C     2008 -0.41%      \n",
       "37  C     2007 -0.51%      \n",
       "38  G     2009 -0.53%      \n",
       "39  E     2013 -0.54%      \n",
       "40  G     2010 -0.77%      \n",
       "41  D     2007 -1.11%      \n",
       "42  G     2011 -1.31%      \n",
       "43  A     2013 -1.32%      \n",
       "44  F     2013 -1.79%      \n",
       "45  D     2008 -1.86%      \n",
       "46  G     2013 -3.57%      \n",
       "47  F     2008 -4.51%      \n",
       "48  G     2007 -4.97%      \n",
       "49  F     2007 -7.68%      \n",
       "50  F     2014 -10.55%     \n",
       "51  E     2014 -11.49%     \n",
       "52  D     2014 -11.85%     \n",
       "53  B     2014 -11.87%     \n",
       "54  C     2014 -11.95%     \n",
       "55  G     2014 -12.36%     \n",
       "56  A     2014 -13.94%     \n",
       "57  E     2015 -40.66%     \n",
       "58  D     2015 -41.53%     \n",
       "59  F     2015 -42.48%     \n",
       "60  C     2015 -43.82%     \n",
       "61  G     2015 -45.56%     \n",
       "62  A     2015 -45.83%     \n",
       "63  B     2015 -46.48%     "
      ]
     },
     "metadata": {},
     "output_type": "display_data"
    }
   ],
   "source": [
    "three_year_term <- three_year_term  %>% mutate(ann_RoR = ((total_pymnt / funded_amnt) ^ (1/3)) - 1)\n",
    "three_year_term %>% group_by(grade,year) %>% summarise(mean_ann_RoR = mean(ann_RoR)) %>% arrange(desc(mean_ann_RoR))  %>%\n",
    "mutate(mean_ann_RoR = paste0(round(mean_ann_RoR*100,2),\"%\"))\n"
   ]
  },
  {
   "cell_type": "markdown",
   "metadata": {},
   "source": [
    "## Part Three\n",
    "\n",
    "I now need to build a model to predict wheter or not to invest in these loans. Since these investments are made at the beginning, we will not know the `total_pymnt` or `loan_status` columns, so they should be removed from our model building.\n",
    "\n",
    "We also need to create a training and test set for a logistic model to evalue its effectiveness. I remove the columns and then create a training and test set below:"
   ]
  },
  {
   "cell_type": "code",
   "execution_count": 21,
   "metadata": {},
   "outputs": [],
   "source": [
    "regression_data <- three_year_term %>% dplyr::select('loan_amnt', 'funded_amnt', \n",
    "                                             'int_rate', 'grade', 'annual_inc', 'issue_d', 'dti', \n",
    "                                             'revol_bal', 'default_number')\n",
    "regression_data$default_number <- as.factor(as.character(regression_data$default_number))\n",
    "partition <- createDataPartition(regression_data$default_number, p=.75,list=F)\n",
    "trainSet <- regression_data[partition,]\n",
    "testSet <- regression_data[-partition,]"
   ]
  },
  {
   "cell_type": "markdown",
   "metadata": {},
   "source": [
    "I then created a logistic binomial regression with all of the variables in the training set."
   ]
  },
  {
   "cell_type": "code",
   "execution_count": 60,
   "metadata": {},
   "outputs": [
    {
     "name": "stderr",
     "output_type": "stream",
     "text": [
      "Warning message:\n",
      "\"glm.fit: fitted probabilities numerically 0 or 1 occurred\""
     ]
    }
   ],
   "source": [
    "## Logistic regression\n",
    "lreg<-glm(default_number~.,data=trainSet,family=\"binomial\")"
   ]
  },
  {
   "cell_type": "markdown",
   "metadata": {},
   "source": [
    "I used this model to predict on the test set if each `default_number` was either `0`, meaning default, or `1`, meaning paid in full. I decided to use a cutoff value of .5 -- if the model predicts that there's above a 50% chance that the loan did not default, then I would classify it as a not defaulted loan. I then compared this to the actual status of its default to see how many predictions were correct versus incorrect."
   ]
  },
  {
   "cell_type": "code",
   "execution_count": 61,
   "metadata": {},
   "outputs": [],
   "source": [
    "testSet$defaultPred <- predict(lreg, newdata=testSet,type=\"response\")"
   ]
  },
  {
   "cell_type": "code",
   "execution_count": 67,
   "metadata": {},
   "outputs": [
    {
     "data": {},
     "metadata": {},
     "output_type": "display_data"
    },
    {
     "data": {
      "text/plain": [
       "\n",
       "  Correct Incorrect \n",
       "   129285     24160 "
      ]
     },
     "metadata": {},
     "output_type": "display_data"
    },
    {
     "data": {
      "image/png": "[encoded data removed]",
      "text/plain": [
       "plot without title"
      ]
     },
     "metadata": {},
     "output_type": "display_data"
    }
   ],
   "source": [
    "testSet$default_number <- as.numeric(as.character(testSet$default_number))\n",
    "testSet <- testSet  %>% mutate(defaultPred = ifelse(defaultPred > .5, 1, 0),\n",
    "                                                    correct = ifelse(default_number==defaultPred, \"Correct\", \"Incorrect\")) \n",
    "ggplot(testSet, aes(x=correct,fill=correct)) + geom_bar() + plotTheme() + labs(y=\"Count\",fill=\"Correct\")\n",
    "table(testSet$correct)"
   ]
  },
  {
   "cell_type": "markdown",
   "metadata": {},
   "source": [
    "I also wanted to see how the model made its errors. I created a confusion matrix, showing where there were false positives (meaning the loan did not default but the model predicted it did), false negatives (meaning the loan did default but the model predicted it didn't), true positives, and true negatives. "
   ]
  },
  {
   "cell_type": "code",
   "execution_count": 74,
   "metadata": {
    "scrolled": true
   },
   "outputs": [
    {
     "data": {
      "text/html": [
       "<table>\n",
       "<thead><tr><th scope=col>default_number</th><th scope=col>confuseClassification</th><th scope=col>count</th></tr></thead>\n",
       "<tbody>\n",
       "\t<tr><td>0             </td><td>False Positive</td><td>  6062        </td></tr>\n",
       "\t<tr><td>0             </td><td>True Negative </td><td>100840        </td></tr>\n",
       "\t<tr><td>1             </td><td>False Negative</td><td> 18098        </td></tr>\n",
       "\t<tr><td>1             </td><td>True Positive </td><td> 28445        </td></tr>\n",
       "</tbody>\n",
       "</table>\n"
      ],
      "text/latex": [
       "\\begin{tabular}{r|lll}\n",
       " default\\_number & confuseClassification & count\\\\\n",
       "\\hline\n",
       "\t 0              & False Positive &   6062        \\\\\n",
       "\t 0              & True Negative  & 100840        \\\\\n",
       "\t 1              & False Negative &  18098        \\\\\n",
       "\t 1              & True Positive  &  28445        \\\\\n",
       "\\end{tabular}\n"
      ],
      "text/markdown": [
       "\n",
       "default_number | confuseClassification | count | \n",
       "|---|---|---|---|\n",
       "| 0              | False Positive |   6062         | \n",
       "| 0              | True Negative  | 100840         | \n",
       "| 1              | False Negative |  18098         | \n",
       "| 1              | True Positive  |  28445         | \n",
       "\n",
       "\n"
      ],
      "text/plain": [
       "  default_number confuseClassification count \n",
       "1 0              False Positive          6062\n",
       "2 0              True Negative         100840\n",
       "3 1              False Negative         18098\n",
       "4 1              True Positive          28445"
      ]
     },
     "metadata": {},
     "output_type": "display_data"
    }
   ],
   "source": [
    "testSet$confuseClassification = ifelse((testSet$defaultPred == 0 & testSet$default_number == 0), \"True Negative\", \n",
    "                                       ifelse((testSet$defaultPred == 1 & testSet$default_number == 1), \"True Positive\", \n",
    "                                              ifelse((testSet$defaultPred == 0 & testSet$default_number == 1), \"False Negative\", \n",
    "                                                     \"False Positive\")))\n",
    "testSet  %>% group_by(default_number,confuseClassification)  %>% summarise(count=n())"
   ]
  },
  {
   "cell_type": "markdown",
   "metadata": {},
   "source": [
    "As we can see, the model has a high rate of false negatives when the cutoff is a 50% probabilty. From an investment standpoint, this is a problem -- a false negative in this instance means we would invest in a loan we predicted to be paid in full but actually defaults. We would need to either improve the model or its cutoff to reduce the number of false negatives.\n",
    "\n",
    "This model, with a randomly chosen cutoff, has a very high rate of success in predicting overall default rate on the test set, which is data it did not see when the model was learning what was a default versus not. I could improve this model with better machine learning techniques or a more refined cutoff. "
   ]
  }
 ],
 "metadata": {
  "kernelspec": {
   "display_name": "R",
   "language": "R",
   "name": "ir"
  },
  "language_info": {
   "codemirror_mode": "r",
   "file_extension": ".r",
   "mimetype": "text/x-r-source",
   "name": "R",
   "pygments_lexer": "r",
   "version": "3.5.1"
  }
 },
 "nbformat": 4,
 "nbformat_minor": 2
}
